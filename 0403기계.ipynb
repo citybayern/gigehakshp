{
  "nbformat": 4,
  "nbformat_minor": 0,
  "metadata": {
    "colab": {
      "provenance": [],
      "toc_visible": true,
      "authorship_tag": "ABX9TyN2k5o7SBifDnftmyntt4wf",
      "include_colab_link": true
    },
    "kernelspec": {
      "name": "python3",
      "display_name": "Python 3"
    },
    "language_info": {
      "name": "python"
    }
  },
  "cells": [
    {
      "cell_type": "markdown",
      "metadata": {
        "id": "view-in-github",
        "colab_type": "text"
      },
      "source": [
        "<a href=\"https://colab.research.google.com/github/citybayern/gigehakshp/blob/main/0403%EA%B8%B0%EA%B3%84.ipynb\" target=\"_parent\"><img src=\"https://colab.research.google.com/assets/colab-badge.svg\" alt=\"Open In Colab\"/></a>"
      ]
    },
    {
      "cell_type": "code",
      "execution_count": 2,
      "metadata": {
        "id": "TpXuZRRvdfde"
      },
      "outputs": [],
      "source": [
        "import tensorflow as tf\n",
        "import numpy as np\n",
        "import matplotlib.pyplot as plt"
      ]
    },
    {
      "cell_type": "markdown",
      "source": [
        "스칼라 정의 하기 \n"
      ],
      "metadata": {
        "id": "TSIeW0F7gceu"
      }
    },
    {
      "cell_type": "code",
      "source": [
        "c1=tf.constant(1)\n",
        "c2=tf.constant(2)\n",
        "print(c1,c2)"
      ],
      "metadata": {
        "id": "KpV4XtrPdpK7",
        "colab": {
          "base_uri": "https://localhost:8080/"
        },
        "outputId": "0e3e33aa-7ee1-45fa-fb24-a12480d198f5"
      },
      "execution_count": null,
      "outputs": [
        {
          "output_type": "stream",
          "name": "stdout",
          "text": [
            "tf.Tensor(1, shape=(), dtype=int32) tf.Tensor(2, shape=(), dtype=int32)\n"
          ]
        }
      ]
    },
    {
      "cell_type": "markdown",
      "source": [
        "add()\n",
        "subtract()\n",
        "multiply()\n",
        "divide()\n",
        "mod()\n",
        "floordiv()"
      ],
      "metadata": {
        "id": "AnIb_UmthdS-"
      }
    },
    {
      "cell_type": "code",
      "source": [
        "##덧셈 \n",
        "add=tf.math.add(c1,c2)\n",
        "add.numpy() #값만 줌"
      ],
      "metadata": {
        "colab": {
          "base_uri": "https://localhost:8080/"
        },
        "id": "ve5_Z30sgvRR",
        "outputId": "14f6625a-0358-469a-e68e-62ff749f1e89"
      },
      "execution_count": null,
      "outputs": [
        {
          "output_type": "execute_result",
          "data": {
            "text/plain": [
              "3"
            ]
          },
          "metadata": {},
          "execution_count": 12
        }
      ]
    },
    {
      "cell_type": "code",
      "source": [
        "##뺄셈 \n",
        "sub=tf.math.subtract(c1,c2)\n",
        "sub"
      ],
      "metadata": {
        "colab": {
          "base_uri": "https://localhost:8080/"
        },
        "id": "AdV4TMm2hBIn",
        "outputId": "17998142-f340-4901-8473-9f62c212db40"
      },
      "execution_count": null,
      "outputs": [
        {
          "output_type": "execute_result",
          "data": {
            "text/plain": [
              "<tf.Tensor: shape=(), dtype=int32, numpy=-1>"
            ]
          },
          "metadata": {},
          "execution_count": 9
        }
      ]
    },
    {
      "cell_type": "code",
      "source": [
        "#곱셈\n",
        "print(tf.math.multiply(c1,c2))\n",
        "#나눗셈\n",
        "print(tf.math.divide(c1,c2))\n",
        "#나눗셈(나머지)\n",
        "print(tf.math.mod(c1,c2))\n",
        "#나눗셈(몫)\n",
        "print(tf.math.floordiv(c1,c2))"
      ],
      "metadata": {
        "colab": {
          "base_uri": "https://localhost:8080/"
        },
        "id": "AgUOe4mZhJKG",
        "outputId": "a5d93748-34b2-4509-b7df-bfdf9d2f8552"
      },
      "execution_count": null,
      "outputs": [
        {
          "output_type": "stream",
          "name": "stdout",
          "text": [
            "tf.Tensor(2, shape=(), dtype=int32)\n",
            "tf.Tensor(0.5, shape=(), dtype=float64)\n",
            "tf.Tensor(1, shape=(), dtype=int32)\n",
            "tf.Tensor(0, shape=(), dtype=int32)\n"
          ]
        }
      ]
    },
    {
      "cell_type": "code",
      "source": [
        "py_list=[10,20,30]\n",
        "ten_list=tf.constant(py_list)\n",
        "ten_list"
      ],
      "metadata": {
        "colab": {
          "base_uri": "https://localhost:8080/"
        },
        "id": "2DSu-6iXim8N",
        "outputId": "e5a87b83-8329-4981-f74f-31f77459bb63"
      },
      "execution_count": null,
      "outputs": [
        {
          "output_type": "execute_result",
          "data": {
            "text/plain": [
              "<tf.Tensor: shape=(3,), dtype=int32, numpy=array([10, 20, 30], dtype=int32)>"
            ]
          },
          "metadata": {},
          "execution_count": 14
        }
      ]
    },
    {
      "cell_type": "code",
      "source": [
        "ten_list =tf.constant([10,20,30])\n",
        "ten_list"
      ],
      "metadata": {
        "colab": {
          "base_uri": "https://localhost:8080/"
        },
        "id": "fGIBbE7yixBv",
        "outputId": "ecd1a02e-07ee-4599-97de-5eb15224b147"
      },
      "execution_count": null,
      "outputs": [
        {
          "output_type": "execute_result",
          "data": {
            "text/plain": [
              "<tf.Tensor: shape=(3,), dtype=int32, numpy=array([10, 20, 30], dtype=int32)>"
            ]
          },
          "metadata": {},
          "execution_count": 17
        }
      ]
    },
    {
      "cell_type": "code",
      "source": [
        "num_arr =np.array([10,10,10])\n",
        "ten_arr=tf.constant(num_arr)\n",
        "ten_arr"
      ],
      "metadata": {
        "colab": {
          "base_uri": "https://localhost:8080/"
        },
        "id": "LdYlAyjGi5r3",
        "outputId": "a783c03a-a6b1-4ce2-d51a-185cb0020729"
      },
      "execution_count": null,
      "outputs": [
        {
          "output_type": "execute_result",
          "data": {
            "text/plain": [
              "<tf.Tensor: shape=(3,), dtype=int64, numpy=array([10, 10, 10])>"
            ]
          },
          "metadata": {},
          "execution_count": 19
        }
      ]
    },
    {
      "cell_type": "code",
      "source": [
        "add1=tf.math.add(ten_list,ten_arr)\n",
        "add1"
      ],
      "metadata": {
        "colab": {
          "base_uri": "https://localhost:8080/",
          "height": 345
        },
        "id": "7XpoeU1hkJtS",
        "outputId": "2f06a546-4d8b-443e-9468-68f233a6c0b3"
      },
      "execution_count": null,
      "outputs": [
        {
          "output_type": "error",
          "ename": "InvalidArgumentError",
          "evalue": "ignored",
          "traceback": [
            "\u001b[0;31m---------------------------------------------------------------------------\u001b[0m",
            "\u001b[0;31mInvalidArgumentError\u001b[0m                      Traceback (most recent call last)",
            "\u001b[0;32m<ipython-input-22-f3975e0cdc6b>\u001b[0m in \u001b[0;36m<cell line: 1>\u001b[0;34m()\u001b[0m\n\u001b[0;32m----> 1\u001b[0;31m \u001b[0madd1\u001b[0m\u001b[0;34m=\u001b[0m\u001b[0mtf\u001b[0m\u001b[0;34m.\u001b[0m\u001b[0mmath\u001b[0m\u001b[0;34m.\u001b[0m\u001b[0madd\u001b[0m\u001b[0;34m(\u001b[0m\u001b[0mten_list\u001b[0m\u001b[0;34m,\u001b[0m\u001b[0mten_arr\u001b[0m\u001b[0;34m)\u001b[0m\u001b[0;34m\u001b[0m\u001b[0;34m\u001b[0m\u001b[0m\n\u001b[0m\u001b[1;32m      2\u001b[0m \u001b[0madd1\u001b[0m\u001b[0;34m\u001b[0m\u001b[0;34m\u001b[0m\u001b[0m\n",
            "\u001b[0;32m/usr/local/lib/python3.9/dist-packages/tensorflow/python/util/traceback_utils.py\u001b[0m in \u001b[0;36merror_handler\u001b[0;34m(*args, **kwargs)\u001b[0m\n\u001b[1;32m    151\u001b[0m     \u001b[0;32mexcept\u001b[0m \u001b[0mException\u001b[0m \u001b[0;32mas\u001b[0m \u001b[0me\u001b[0m\u001b[0;34m:\u001b[0m\u001b[0;34m\u001b[0m\u001b[0;34m\u001b[0m\u001b[0m\n\u001b[1;32m    152\u001b[0m       \u001b[0mfiltered_tb\u001b[0m \u001b[0;34m=\u001b[0m \u001b[0m_process_traceback_frames\u001b[0m\u001b[0;34m(\u001b[0m\u001b[0me\u001b[0m\u001b[0;34m.\u001b[0m\u001b[0m__traceback__\u001b[0m\u001b[0;34m)\u001b[0m\u001b[0;34m\u001b[0m\u001b[0;34m\u001b[0m\u001b[0m\n\u001b[0;32m--> 153\u001b[0;31m       \u001b[0;32mraise\u001b[0m \u001b[0me\u001b[0m\u001b[0;34m.\u001b[0m\u001b[0mwith_traceback\u001b[0m\u001b[0;34m(\u001b[0m\u001b[0mfiltered_tb\u001b[0m\u001b[0;34m)\u001b[0m \u001b[0;32mfrom\u001b[0m \u001b[0;32mNone\u001b[0m\u001b[0;34m\u001b[0m\u001b[0;34m\u001b[0m\u001b[0m\n\u001b[0m\u001b[1;32m    154\u001b[0m     \u001b[0;32mfinally\u001b[0m\u001b[0;34m:\u001b[0m\u001b[0;34m\u001b[0m\u001b[0;34m\u001b[0m\u001b[0m\n\u001b[1;32m    155\u001b[0m       \u001b[0;32mdel\u001b[0m \u001b[0mfiltered_tb\u001b[0m\u001b[0;34m\u001b[0m\u001b[0;34m\u001b[0m\u001b[0m\n",
            "\u001b[0;32m/usr/local/lib/python3.9/dist-packages/tensorflow/python/framework/ops.py\u001b[0m in \u001b[0;36mraise_from_not_ok_status\u001b[0;34m(e, name)\u001b[0m\n\u001b[1;32m   7260\u001b[0m \u001b[0;32mdef\u001b[0m \u001b[0mraise_from_not_ok_status\u001b[0m\u001b[0;34m(\u001b[0m\u001b[0me\u001b[0m\u001b[0;34m,\u001b[0m \u001b[0mname\u001b[0m\u001b[0;34m)\u001b[0m\u001b[0;34m:\u001b[0m\u001b[0;34m\u001b[0m\u001b[0;34m\u001b[0m\u001b[0m\n\u001b[1;32m   7261\u001b[0m   \u001b[0me\u001b[0m\u001b[0;34m.\u001b[0m\u001b[0mmessage\u001b[0m \u001b[0;34m+=\u001b[0m \u001b[0;34m(\u001b[0m\u001b[0;34m\" name: \"\u001b[0m \u001b[0;34m+\u001b[0m \u001b[0mname\u001b[0m \u001b[0;32mif\u001b[0m \u001b[0mname\u001b[0m \u001b[0;32mis\u001b[0m \u001b[0;32mnot\u001b[0m \u001b[0;32mNone\u001b[0m \u001b[0;32melse\u001b[0m \u001b[0;34m\"\"\u001b[0m\u001b[0;34m)\u001b[0m\u001b[0;34m\u001b[0m\u001b[0;34m\u001b[0m\u001b[0m\n\u001b[0;32m-> 7262\u001b[0;31m   \u001b[0;32mraise\u001b[0m \u001b[0mcore\u001b[0m\u001b[0;34m.\u001b[0m\u001b[0m_status_to_exception\u001b[0m\u001b[0;34m(\u001b[0m\u001b[0me\u001b[0m\u001b[0;34m)\u001b[0m \u001b[0;32mfrom\u001b[0m \u001b[0;32mNone\u001b[0m  \u001b[0;31m# pylint: disable=protected-access\u001b[0m\u001b[0;34m\u001b[0m\u001b[0;34m\u001b[0m\u001b[0m\n\u001b[0m\u001b[1;32m   7263\u001b[0m \u001b[0;34m\u001b[0m\u001b[0m\n\u001b[1;32m   7264\u001b[0m \u001b[0;34m\u001b[0m\u001b[0m\n",
            "\u001b[0;31mInvalidArgumentError\u001b[0m: cannot compute AddV2 as input #1(zero-based) was expected to be a int32 tensor but is a int64 tensor [Op:AddV2]"
          ]
        }
      ]
    },
    {
      "cell_type": "code",
      "source": [
        "A=ten_list + ten_arr\n",
        "S=ten_list-ten_arr\n",
        "M=ten_list*ten_arr\n",
        "D=ten_list/ten_arr\n",
        "Mo=ten_list%ten_arr\n",
        "Fd=ten_list//ten_arr\n"
      ],
      "metadata": {
        "id": "tlGNOlrEj2SZ"
      },
      "execution_count": null,
      "outputs": []
    },
    {
      "cell_type": "markdown",
      "source": [
        "행렬정의하기 "
      ],
      "metadata": {
        "id": "2A3I1TX8nnJk"
      }
    },
    {
      "cell_type": "code",
      "source": [
        "l_a=[1,0]\n",
        "l_b=[-1,2]\n",
        "l_c=[1,0]\n",
        "\n"
      ],
      "metadata": {
        "id": "EXdPeoaRjQJf"
      },
      "execution_count": null,
      "outputs": []
    },
    {
      "cell_type": "code",
      "source": [
        "l_a=tf.constant(l_a)\n",
        "l_b=tf.constant(l_b)\n",
        "l_c=tf.constant(l_c)\n",
        "A=tf.stack([l_a,l_b,l_c])\n",
        "A\n"
      ],
      "metadata": {
        "colab": {
          "base_uri": "https://localhost:8080/"
        },
        "id": "KXsQAD4In2qN",
        "outputId": "41f9f01c-5a22-423d-a005-ef29dc9941b5"
      },
      "execution_count": null,
      "outputs": [
        {
          "output_type": "execute_result",
          "data": {
            "text/plain": [
              "<tf.Tensor: shape=(3, 2), dtype=int32, numpy=\n",
              "array([[ 1,  0],\n",
              "       [-1,  2],\n",
              "       [ 1,  0]], dtype=int32)>"
            ]
          },
          "metadata": {},
          "execution_count": 30
        }
      ]
    },
    {
      "cell_type": "code",
      "source": [
        "l_B=[[10,20],[30,40]]\n",
        "l_C=[[10,20],[20,40]]\n",
        "l_E=[[30,10],[10,10]]\n"
      ],
      "metadata": {
        "id": "IWmu0Zl9oHzf"
      },
      "execution_count": null,
      "outputs": []
    },
    {
      "cell_type": "code",
      "source": [
        "B=tf.constant(l_B)\n",
        "C=tf.constant(l_C)\n",
        "E=tf.constant(l_E)\n",
        "B,C,E"
      ],
      "metadata": {
        "colab": {
          "base_uri": "https://localhost:8080/"
        },
        "id": "aznOcAaPoist",
        "outputId": "5f12173d-fafa-448f-c538-b44ecf647204"
      },
      "execution_count": null,
      "outputs": [
        {
          "output_type": "execute_result",
          "data": {
            "text/plain": [
              "(<tf.Tensor: shape=(2, 2), dtype=int32, numpy=\n",
              " array([[10, 20],\n",
              "        [30, 40]], dtype=int32)>,\n",
              " <tf.Tensor: shape=(2, 2), dtype=int32, numpy=\n",
              " array([[10, 20],\n",
              "        [20, 40]], dtype=int32)>,\n",
              " <tf.Tensor: shape=(2, 2), dtype=int32, numpy=\n",
              " array([[30, 10],\n",
              "        [10, 10]], dtype=int32)>)"
            ]
          },
          "metadata": {},
          "execution_count": 35
        }
      ]
    },
    {
      "cell_type": "markdown",
      "source": [
        "고차원센서 "
      ],
      "metadata": {
        "id": "7OTHX7EgrIQD"
      }
    },
    {
      "cell_type": "code",
      "source": [
        "l_c1=[1,2,3,4]\n",
        "l_c2=[3,4,2,5]\n",
        "l_c3=[2,3,4,5]\n",
        "l_c4=[6,5,7,3]\n",
        "l_c5=[1,1,1,1]\n",
        "l_c6=[8,1,0,6]\n"
      ],
      "metadata": {
        "id": "VrAaLgA6otUu"
      },
      "execution_count": null,
      "outputs": []
    },
    {
      "cell_type": "code",
      "source": [
        "c1=tf.constant(l_c1)\n",
        "c2=tf.constant(l_c2)\n",
        "c3=tf.constant(l_c3)\n",
        "c4=tf.constant(l_c4)\n",
        "c5=tf.constant(l_c5)\n",
        "c6=tf.constant(l_c6)\n",
        "\n"
      ],
      "metadata": {
        "id": "10IeLM7nrr9k"
      },
      "execution_count": null,
      "outputs": []
    },
    {
      "cell_type": "code",
      "source": [
        "t_A=tf.stack([c1,c2,c3,c4,c5,c6])\n",
        "t_A"
      ],
      "metadata": {
        "colab": {
          "base_uri": "https://localhost:8080/"
        },
        "id": "ZZgUluWhr8sF",
        "outputId": "daaf4afb-de05-4b44-ace6-c6a2912ac56c"
      },
      "execution_count": null,
      "outputs": [
        {
          "output_type": "execute_result",
          "data": {
            "text/plain": [
              "<tf.Tensor: shape=(6, 4), dtype=int32, numpy=\n",
              "array([[1, 2, 3, 4],\n",
              "       [3, 4, 2, 5],\n",
              "       [2, 3, 4, 5],\n",
              "       [6, 5, 7, 3],\n",
              "       [1, 1, 1, 1],\n",
              "       [8, 1, 0, 6]], dtype=int32)>"
            ]
          },
          "metadata": {},
          "execution_count": 40
        }
      ]
    },
    {
      "cell_type": "code",
      "source": [
        "t_1=stack[c1,c2]\n",
        "t_2=stack[c3,c4]\n",
        "t_3=stack[c5,c6]\n"
      ],
      "metadata": {
        "id": "YcB3Tm9Itut7"
      },
      "execution_count": null,
      "outputs": []
    },
    {
      "cell_type": "code",
      "source": [
        "x=range(1,10)\n",
        "x=list(x)\n",
        "x1=tf.constant(x)\n",
        "x1"
      ],
      "metadata": {
        "colab": {
          "base_uri": "https://localhost:8080/"
        },
        "id": "UvNNLOGDsHIN",
        "outputId": "72996a1f-4b3d-429a-ef5e-ea4f60582f1a"
      },
      "execution_count": null,
      "outputs": [
        {
          "output_type": "execute_result",
          "data": {
            "text/plain": [
              "<tf.Tensor: shape=(9,), dtype=int32, numpy=array([1, 2, 3, 4, 5, 6, 7, 8, 9], dtype=int32)>"
            ]
          },
          "metadata": {},
          "execution_count": 41
        }
      ]
    },
    {
      "cell_type": "code",
      "source": [
        "##3*3행렬인 경우 \n",
        "x2=tf.reshape(x1,[3,-1])\n",
        "x2\n"
      ],
      "metadata": {
        "colab": {
          "base_uri": "https://localhost:8080/"
        },
        "id": "HQ43nE1KtvwE",
        "outputId": "63539a9b-4434-4a68-b650-83d5616f8987"
      },
      "execution_count": null,
      "outputs": [
        {
          "output_type": "execute_result",
          "data": {
            "text/plain": [
              "<tf.Tensor: shape=(3, 3), dtype=int32, numpy=\n",
              "array([[1, 2, 3],\n",
              "       [4, 5, 6],\n",
              "       [7, 8, 9]], dtype=int32)>"
            ]
          },
          "metadata": {},
          "execution_count": 49
        }
      ]
    },
    {
      "cell_type": "code",
      "source": [
        "x2[:1]"
      ],
      "metadata": {
        "colab": {
          "base_uri": "https://localhost:8080/"
        },
        "id": "i26_rh0lvOtU",
        "outputId": "e9b33d6d-4294-468a-a549-4d3b8cad43b5"
      },
      "execution_count": null,
      "outputs": [
        {
          "output_type": "execute_result",
          "data": {
            "text/plain": [
              "<tf.Tensor: shape=(1, 3), dtype=int32, numpy=array([[1, 2, 3]], dtype=int32)>"
            ]
          },
          "metadata": {},
          "execution_count": 50
        }
      ]
    },
    {
      "cell_type": "code",
      "source": [
        "x2[:2]"
      ],
      "metadata": {
        "colab": {
          "base_uri": "https://localhost:8080/"
        },
        "id": "awrcplZYv0YL",
        "outputId": "8ba8acfc-8934-42ef-dcad-3965e0f488ab"
      },
      "execution_count": null,
      "outputs": [
        {
          "output_type": "execute_result",
          "data": {
            "text/plain": [
              "<tf.Tensor: shape=(2, 3), dtype=int32, numpy=\n",
              "array([[1, 2, 3],\n",
              "       [4, 5, 6]], dtype=int32)>"
            ]
          },
          "metadata": {},
          "execution_count": 51
        }
      ]
    },
    {
      "cell_type": "code",
      "source": [
        "#tf.reshape(변수,[열 갯수,행 갯수 ])\n",
        "\n",
        "#열 갯수 모를떄 -1\n",
        "\n",
        "#3차원일떄는 [z축 ,뒤는 동일] 마찬가지로 -1로 z축 갯수 모를떄 쓰기"
      ],
      "metadata": {
        "id": "VNXMqQrKv15c"
      },
      "execution_count": null,
      "outputs": []
    },
    {
      "cell_type": "code",
      "source": [
        "#데이터셋 생성\n",
        "g = tf.random.Generator.from_seed(2020)\n",
        "x = g.normal(shape=(10,))\n",
        "y = 3*x -2"
      ],
      "metadata": {
        "id": "PmfESaVyw_zT"
      },
      "execution_count": 4,
      "outputs": []
    },
    {
      "cell_type": "code",
      "source": [
        "##lose함수 정의하기\n",
        "def cal_mse(x, y, a, b):\n",
        "    y_pred = a*x +b\n",
        "    squared_error = (y_pred - y) ** 2\n",
        "    mean_squared_error = tf.reduce_mean(squared_error)\n",
        "\n",
        "    return mean_squared_error\n",
        "    "
      ],
      "metadata": {
        "id": "JVMqt6dXU90J"
      },
      "execution_count": 5,
      "outputs": []
    },
    {
      "cell_type": "code",
      "source": [
        "a = tf.Variable(0.0)\n",
        "b = tf.Variable(0.0)\n",
        "\n",
        "EPOCHS = 300\n",
        "\n",
        "for epoch in range(1, EPOCHS+1):\n",
        "    with tf.GradientTape() as tape:\n",
        "        mse = cal_mse(x, y, a, b)\n",
        "    if mse < 0.00001:\n",
        "        break\n",
        "    \n",
        "    grade = tape.gradient(mse, {'a':a, 'b':b})\n",
        "    d_a, d_b = grade['a'], grade['b']\n",
        "    a.assign_sub(d_a * 0.05)## a = a - d_a*0.05(학습률)\n",
        "    b.assign_sub(d_b * 0.05)## b = b - d_b*0.05(학습률)\n",
        "\n",
        "    if epoch % 20 == 0:\n",
        "        print(\"EPOCH %d - MSE : %.4f - a: %.2f - b : %.2f\"%(epoch, mse, a, b))"
      ],
      "metadata": {
        "colab": {
          "base_uri": "https://localhost:8080/"
        },
        "id": "HTWZ71R8VTUi",
        "outputId": "f0da6582-0913-48ef-ca31-0c1cfa544e56"
      },
      "execution_count": 6,
      "outputs": [
        {
          "output_type": "stream",
          "name": "stdout",
          "text": [
            "EPOCH 20 - MSE : 1.1415 - a: 1.74 - b : -0.75\n",
            "EPOCH 40 - MSE : 0.2881 - a: 2.37 - b : -1.37\n",
            "EPOCH 60 - MSE : 0.0728 - a: 2.69 - b : -1.68\n",
            "EPOCH 80 - MSE : 0.0184 - a: 2.84 - b : -1.84\n",
            "EPOCH 100 - MSE : 0.0046 - a: 2.92 - b : -1.92\n",
            "EPOCH 120 - MSE : 0.0012 - a: 2.96 - b : -1.96\n",
            "EPOCH 140 - MSE : 0.0003 - a: 2.98 - b : -1.98\n",
            "EPOCH 160 - MSE : 0.0001 - a: 2.99 - b : -1.99\n",
            "EPOCH 180 - MSE : 0.0000 - a: 2.99 - b : -1.99\n"
          ]
        }
      ]
    },
    {
      "cell_type": "code",
      "source": [
        "\n",
        "y_pred = 3*x -2\n",
        "plt.scatter(x,y)\n",
        "plt.plot(x, y_pred, color = 'r')\n",
        "plt.show()\n",
        "     \n",
        "     "
      ],
      "metadata": {
        "colab": {
          "base_uri": "https://localhost:8080/",
          "height": 430
        },
        "id": "yhB7WUwrVVin",
        "outputId": "6aecd3bd-3ca7-4b7a-b0f1-1f53b79acbac"
      },
      "execution_count": 14,
      "outputs": [
        {
          "output_type": "display_data",
          "data": {
            "text/plain": [
              "<Figure size 640x480 with 1 Axes>"
            ],
            "image/png": "[encoded data removed]"
          },
          "metadata": {}
        }
      ]
    },
    {
      "cell_type": "code",
      "source": [
        "\n",
        "##데이터셋 생성(노이즈 첨가)\n",
        "g = tf.random.Generator.from_seed(2020)\n",
        "x1 = g.normal(shape=(10,))\n",
        "noise = np.random.normal(0,1,size = (10,))\n",
        "y= 3*x-2+noise\n",
        "     "
      ],
      "metadata": {
        "id": "na3WfB1nVXmd"
      },
      "execution_count": 12,
      "outputs": []
    },
    {
      "cell_type": "code",
      "source": [
        "a = tf.Variable(0.0)\n",
        "b = tf.Variable(0.0)\n",
        "\n",
        "EPOCHS = 1000\n",
        "\n",
        "for epoch in range(1, EPOCHS+1):\n",
        "    with tf.GradientTape() as tape:\n",
        "        mse = cal_mse(x1, y, a, b)\n",
        "    if mse < 0.000001:\n",
        "        break\n",
        "    \n",
        "    grade = tape.gradient(mse, {'a':a, 'b':b})\n",
        "    d_a, d_b = grade['a'], grade['b']\n",
        "    a.assign_sub(d_a * 0.05)## a = a - d_a*0.05(학습률)\n",
        "    b.assign_sub(d_b * 0.05)## b = b - d_b*0.05(학습률)\n",
        "\n",
        "    if epoch % 20 == 0:\n",
        "        print(\"EPOCH %d - MSE : %.4f - a: %.2f - b : %.2f\"%(epoch, mse, a, b))"
      ],
      "metadata": {
        "colab": {
          "base_uri": "https://localhost:8080/"
        },
        "id": "0e1gQkUrVZHt",
        "outputId": "8d798c57-9549-41dc-bfe1-afa6d33f0d75"
      },
      "execution_count": 9,
      "outputs": [
        {
          "output_type": "stream",
          "name": "stdout",
          "text": [
            "EPOCH 20 - MSE : 1.1415 - a: 1.74 - b : -0.75\n",
            "EPOCH 40 - MSE : 0.2881 - a: 2.37 - b : -1.37\n",
            "EPOCH 60 - MSE : 0.0728 - a: 2.69 - b : -1.68\n",
            "EPOCH 80 - MSE : 0.0184 - a: 2.84 - b : -1.84\n",
            "EPOCH 100 - MSE : 0.0046 - a: 2.92 - b : -1.92\n",
            "EPOCH 120 - MSE : 0.0012 - a: 2.96 - b : -1.96\n",
            "EPOCH 140 - MSE : 0.0003 - a: 2.98 - b : -1.98\n",
            "EPOCH 160 - MSE : 0.0001 - a: 2.99 - b : -1.99\n",
            "EPOCH 180 - MSE : 0.0000 - a: 2.99 - b : -1.99\n",
            "EPOCH 200 - MSE : 0.0000 - a: 3.00 - b : -2.00\n",
            "EPOCH 220 - MSE : 0.0000 - a: 3.00 - b : -2.00\n"
          ]
        }
      ]
    },
    {
      "cell_type": "code",
      "source": [
        "y_pred = 2.85*x1 -2.33\n",
        "plt.scatter(x,y)\n",
        "plt.plot(x1, y_pred, color = 'r')\n",
        "plt.show()\n",
        "     "
      ],
      "metadata": {
        "colab": {
          "base_uri": "https://localhost:8080/",
          "height": 430
        },
        "id": "812bE3cEVbD7",
        "outputId": "c1073984-2b1c-44f9-ed0c-2381cd5b3583"
      },
      "execution_count": 13,
      "outputs": [
        {
          "output_type": "display_data",
          "data": {
            "text/plain": [
              "<Figure size 640x480 with 1 Axes>"
            ],
            "image/png": "[encoded data removed]"
          },
          "metadata": {}
        }
      ]
    },
    {
      "cell_type": "code",
      "source": [],
      "metadata": {
        "id": "Oq29sjtgVlN2"
      },
      "execution_count": null,
      "outputs": []
    }
  ]
}