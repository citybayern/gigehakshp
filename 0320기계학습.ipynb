{
  "nbformat": 4,
  "nbformat_minor": 0,
  "metadata": {
    "colab": {
      "provenance": [],
      "authorship_tag": "ABX9TyNSczOL/luRuZ10Jbmf76VM",
      "include_colab_link": true
    },
    "kernelspec": {
      "name": "python3",
      "display_name": "Python 3"
    },
    "language_info": {
      "name": "python"
    }
  },
  "cells": [
    {
      "cell_type": "markdown",
      "metadata": {
        "id": "view-in-github",
        "colab_type": "text"
      },
      "source": [
        "<a href=\"https://colab.research.google.com/github/citybayern/gigehakshp/blob/main/0320%EA%B8%B0%EA%B3%84%ED%95%99%EC%8A%B5.ipynb\" target=\"_parent\"><img src=\"https://colab.research.google.com/assets/colab-badge.svg\" alt=\"Open In Colab\"/></a>"
      ]
    },
    {
      "cell_type": "code",
      "execution_count": null,
      "metadata": {
        "colab": {
          "base_uri": "https://localhost:8080/"
        },
        "id": "3nlHSAsPXBvO",
        "outputId": "e9c9e0d4-3f5d-41ed-ff9d-a6202fd5566d"
      },
      "outputs": [
        {
          "output_type": "stream",
          "name": "stdout",
          "text": [
            "0\n",
            "1\n",
            "2\n",
            "3\n",
            "4\n",
            "5\n",
            "6\n",
            "7\n",
            "8\n",
            "9\n"
          ]
        }
      ],
      "source": [
        "for i in range(10):\n",
        "  print(i)"
      ]
    },
    {
      "cell_type": "code",
      "source": [
        "a=[]\n",
        "for i  in range(1,4):\n",
        "  a.append(i)\n",
        "print(a)"
      ],
      "metadata": {
        "colab": {
          "base_uri": "https://localhost:8080/"
        },
        "id": "RiHYBwOIY4BX",
        "outputId": "cc6b9c5d-abe8-4c74-84d6-6b88b7d75807"
      },
      "execution_count": null,
      "outputs": [
        {
          "output_type": "stream",
          "name": "stdout",
          "text": [
            "[1, 2, 3]\n"
          ]
        }
      ]
    },
    {
      "cell_type": "code",
      "source": [
        "b=[]\n",
        "for i  in range(4,7):\n",
        "  b.append(i)\n",
        "print(b)"
      ],
      "metadata": {
        "colab": {
          "base_uri": "https://localhost:8080/"
        },
        "id": "tajrlONmY_Du",
        "outputId": "c8318505-d158-4ae1-b2bb-aab91721c486"
      },
      "execution_count": null,
      "outputs": [
        {
          "output_type": "stream",
          "name": "stdout",
          "text": [
            "[4, 5, 6]\n"
          ]
        }
      ]
    },
    {
      "cell_type": "code",
      "source": [
        "c=[]\n",
        "for i  in range(3,6):\n",
        "  c.append(i)\n",
        "print(c)"
      ],
      "metadata": {
        "colab": {
          "base_uri": "https://localhost:8080/"
        },
        "id": "CdWFM6Kra8V3",
        "outputId": "bfee2b78-6852-4663-b793-d7396451b133"
      },
      "execution_count": null,
      "outputs": [
        {
          "output_type": "stream",
          "name": "stdout",
          "text": [
            "[3, 4, 5]\n"
          ]
        }
      ]
    },
    {
      "cell_type": "code",
      "source": [
        "##힙집합\n",
        "U1=a+b\n",
        "U1"
      ],
      "metadata": {
        "colab": {
          "base_uri": "https://localhost:8080/"
        },
        "id": "5P3PQK63bAJf",
        "outputId": "cd112eda-c4b4-4a11-ea77-54ccdca23ef5"
      },
      "execution_count": null,
      "outputs": [
        {
          "output_type": "execute_result",
          "data": {
            "text/plain": [
              "[1, 2, 3, 4, 5, 6]"
            ]
          },
          "metadata": {},
          "execution_count": 13
        }
      ]
    },
    {
      "cell_type": "code",
      "source": [
        "U2 =a+c\n",
        "U2\n",
        "#del U2[3]\n",
        "#U2"
      ],
      "metadata": {
        "colab": {
          "base_uri": "https://localhost:8080/"
        },
        "id": "Q9CgoUzIbSK2",
        "outputId": "bdfa8d45-8075-445d-f0ee-05f2bf440dc7"
      },
      "execution_count": null,
      "outputs": [
        {
          "output_type": "execute_result",
          "data": {
            "text/plain": [
              "[1, 2, 3, 3, 4, 5]"
            ]
          },
          "metadata": {},
          "execution_count": 20
        }
      ]
    },
    {
      "cell_type": "code",
      "source": [
        "I=[]\n",
        "for i in a:\n",
        "  if i in c:\n",
        "    I.append(i)\n",
        "    a.remove(i)\n",
        "I"
      ],
      "metadata": {
        "colab": {
          "base_uri": "https://localhost:8080/"
        },
        "id": "Ekn_Uo9gbdOm",
        "outputId": "a003c48e-a301-4979-b2bb-6f23dce75d89"
      },
      "execution_count": null,
      "outputs": [
        {
          "output_type": "execute_result",
          "data": {
            "text/plain": [
              "[3]"
            ]
          },
          "metadata": {},
          "execution_count": 21
        }
      ]
    },
    {
      "cell_type": "code",
      "source": [
        "for i in a:\n",
        "  if i in c:\n",
        "    a.remove(i)\n",
        "a"
      ],
      "metadata": {
        "colab": {
          "base_uri": "https://localhost:8080/"
        },
        "id": "pnVFf-5TcLZm",
        "outputId": "cf2072f8-41a5-45ed-c558-0bc84af055e3"
      },
      "execution_count": null,
      "outputs": [
        {
          "output_type": "execute_result",
          "data": {
            "text/plain": [
              "[1, 2]"
            ]
          },
          "metadata": {},
          "execution_count": 22
        }
      ]
    },
    {
      "cell_type": "code",
      "source": [
        "U=a+c\n",
        "U"
      ],
      "metadata": {
        "colab": {
          "base_uri": "https://localhost:8080/"
        },
        "id": "XK8KFmlneG_u",
        "outputId": "03982b9f-3b66-4b8c-af31-02c0aeeeb20f"
      },
      "execution_count": null,
      "outputs": [
        {
          "output_type": "execute_result",
          "data": {
            "text/plain": [
              "[1, 2, 3, 4, 5]"
            ]
          },
          "metadata": {},
          "execution_count": 23
        }
      ]
    },
    {
      "cell_type": "code",
      "source": [
        "a=[1,2,3]\n",
        "b=[4,5,6]\n",
        "c=[3,4,5]\n",
        "for i in a:\n",
        "  if i not in c:\n",
        "    c.append(i)\n",
        "c"
      ],
      "metadata": {
        "colab": {
          "base_uri": "https://localhost:8080/"
        },
        "id": "E2EZKLRZeMRu",
        "outputId": "47371895-b875-437d-ea81-6a089de1ca5a"
      },
      "execution_count": null,
      "outputs": [
        {
          "output_type": "execute_result",
          "data": {
            "text/plain": [
              "[3, 4, 5, 1, 2]"
            ]
          },
          "metadata": {},
          "execution_count": 28
        }
      ]
    },
    {
      "cell_type": "code",
      "source": [
        "c.sort()\n"
      ],
      "metadata": {
        "id": "uaClRfwGerdN"
      },
      "execution_count": null,
      "outputs": []
    },
    {
      "cell_type": "code",
      "source": [
        "c"
      ],
      "metadata": {
        "colab": {
          "base_uri": "https://localhost:8080/"
        },
        "id": "zzi-bAfrfz72",
        "outputId": "b7dda76f-5703-4f4f-9b86-f647d90fd55e"
      },
      "execution_count": null,
      "outputs": [
        {
          "output_type": "execute_result",
          "data": {
            "text/plain": [
              "[1, 2, 3, 4, 5]"
            ]
          },
          "metadata": {},
          "execution_count": 30
        }
      ]
    },
    {
      "cell_type": "code",
      "source": [
        "num=0\n",
        "while num<10:\n",
        "  print(num)\n",
        "  num+=1"
      ],
      "metadata": {
        "colab": {
          "base_uri": "https://localhost:8080/"
        },
        "id": "mgJiQNOcf0Tt",
        "outputId": "9b5ac56b-1c6b-443e-ddcf-f4b374fa4ced"
      },
      "execution_count": null,
      "outputs": [
        {
          "output_type": "stream",
          "name": "stdout",
          "text": [
            "0\n",
            "1\n",
            "2\n",
            "3\n",
            "4\n",
            "5\n",
            "6\n",
            "7\n",
            "8\n",
            "9\n"
          ]
        }
      ]
    },
    {
      "cell_type": "code",
      "source": [
        "num1=1\n",
        "num2=4\n",
        "while num1<10:\n",
        "  print(num1*num2)\n",
        "  \n",
        "  num1+=1"
      ],
      "metadata": {
        "colab": {
          "base_uri": "https://localhost:8080/"
        },
        "id": "wWoTII1Fki-1",
        "outputId": "0a36c652-f950-4ba6-8a23-042d0779201b"
      },
      "execution_count": null,
      "outputs": [
        {
          "output_type": "stream",
          "name": "stdout",
          "text": [
            "4\n",
            "8\n",
            "12\n",
            "16\n",
            "20\n",
            "24\n",
            "28\n",
            "32\n",
            "36\n"
          ]
        }
      ]
    },
    {
      "cell_type": "code",
      "source": [
        "#로그인 될떄 까지 물어보기\n",
        "while True:\n",
        "  print(\"숫자 입력\\n\")\n",
        "  num=input()\n",
        "  if num ==\"12356789!!!\":\n",
        "    print(\"로그인되었습니다\\n\")\n",
        "    break\n",
        "  else:\n",
        "    print(\"다시 입력해주세요\\n\")\n",
        "    continue"
      ],
      "metadata": {
        "colab": {
          "base_uri": "https://localhost:8080/"
        },
        "id": "TNkMtctzlGMM",
        "outputId": "d6571161-5308-4628-ded4-ae4e1a9fac67"
      },
      "execution_count": null,
      "outputs": [
        {
          "output_type": "stream",
          "name": "stdout",
          "text": [
            "숫자 입력\n",
            "\n",
            "5654\n",
            "다시 입력해주세요\n",
            "\n",
            "숫자 입력\n",
            "\n",
            "\n",
            "다시 입력해주세요\n",
            "\n",
            "숫자 입력\n",
            "\n",
            "12ascsdcdscds\n",
            "다시 입력해주세요\n",
            "\n",
            "숫자 입력\n",
            "\n",
            "csdcscsdcsdcds\n",
            "다시 입력해주세요\n",
            "\n",
            "숫자 입력\n",
            "\n",
            "123568789!!!\n",
            "다시 입력해주세요\n",
            "\n",
            "숫자 입력\n",
            "\n",
            "12356789!!!\n",
            "로그인되었습니다\n",
            "\n"
          ]
        }
      ]
    },
    {
      "cell_type": "code",
      "source": [
        "import random"
      ],
      "metadata": {
        "id": "h44V73N1sMPt"
      },
      "execution_count": null,
      "outputs": []
    },
    {
      "cell_type": "code",
      "source": [
        "num_range=range(1,46)\n",
        "num_list = list(num_range)\n",
        "print(num_list)"
      ],
      "metadata": {
        "colab": {
          "base_uri": "https://localhost:8080/"
        },
        "id": "aORolGDjnLgW",
        "outputId": "f8c05429-07c5-4655-a905-bb9cb8a21aef"
      },
      "execution_count": null,
      "outputs": [
        {
          "output_type": "stream",
          "name": "stdout",
          "text": [
            "[1, 2, 3, 4, 5, 6, 7, 8, 9, 10, 11, 12, 13, 14, 15, 16, 17, 18, 19, 20, 21, 22, 23, 24, 25, 26, 27, 28, 29, 30, 31, 32, 33, 34, 35, 36, 37, 38, 39, 40, 41, 42, 43, 44, 45]\n"
          ]
        }
      ]
    },
    {
      "cell_type": "code",
      "source": [
        "random.shuffle(num_list)\n",
        "print(num_list)\n",
        "len(num_list)"
      ],
      "metadata": {
        "id": "geznbnCotRdC",
        "colab": {
          "base_uri": "https://localhost:8080/"
        },
        "outputId": "3ae5aeed-1f52-4ec5-9ad7-7439b57af398"
      },
      "execution_count": null,
      "outputs": [
        {
          "output_type": "stream",
          "name": "stdout",
          "text": [
            "[29, 5, 37, 39, 31, 40, 10, 7, 41, 22, 30, 25, 43, 18, 33, 32, 17, 12, 26, 1, 38, 21, 4, 35, 6, 27, 13, 42, 36, 2, 14, 9, 20, 16, 11, 15, 23, 3, 28, 19, 45, 34, 8, 44, 24]\n"
          ]
        },
        {
          "output_type": "execute_result",
          "data": {
            "text/plain": [
              "45"
            ]
          },
          "metadata": {},
          "execution_count": 12
        }
      ]
    },
    {
      "cell_type": "code",
      "source": [
        "##로또 번호 6개 추출\n",
        "lotto=[]\n",
        "while len(lotto)<6:\n",
        "    random.shuffle(num_list)\n",
        "    num_selected = num_list[0]\n",
        "    lotto.append(num_selected)\n",
        "print(lotto)\n",
        "\n"
      ],
      "metadata": {
        "colab": {
          "base_uri": "https://localhost:8080/"
        },
        "id": "YWrjBaNYsRoK",
        "outputId": "aa74405b-c25d-46e3-b3bd-fc17065481a4"
      },
      "execution_count": null,
      "outputs": [
        {
          "output_type": "stream",
          "name": "stdout",
          "text": [
            "[9, 17, 8, 32, 8, 22]\n"
          ]
        }
      ]
    },
    {
      "cell_type": "code",
      "source": [
        "\n",
        "#소수찾기\n",
        "n = int(input(\"정수를 입력하세요: \"))\n",
        "\n",
        "for num in range(2, n+1):\n",
        "    prime = True\n",
        "    for i in range(2, num):\n",
        "        if num % i == 0:\n",
        "            prime = False\n",
        "            break\n",
        "    if  prime:\n",
        "        print(num)"
      ],
      "metadata": {
        "id": "tQ249unbtTGC",
        "colab": {
          "base_uri": "https://localhost:8080/"
        },
        "outputId": "bd6ad130-3e65-4e1d-814d-0e380c5e9812"
      },
      "execution_count": null,
      "outputs": [
        {
          "output_type": "stream",
          "name": "stdout",
          "text": [
            "정수를 입력하세요: 50\n",
            "2\n",
            "3\n",
            "5\n",
            "7\n",
            "11\n",
            "13\n",
            "17\n",
            "19\n",
            "23\n",
            "29\n",
            "31\n",
            "37\n",
            "41\n",
            "43\n",
            "47\n"
          ]
        }
      ]
    },
    {
      "cell_type": "code",
      "source": [
        "A=[]\n",
        "while True:\n",
        "  e=round(random.random(),3)\n",
        "  A.append(e)\n",
        "  if len(A)==5:\n",
        "    break\n",
        "print(A)"
      ],
      "metadata": {
        "colab": {
          "base_uri": "https://localhost:8080/"
        },
        "id": "nLh5Vwy1tUiy",
        "outputId": "63a396cc-342c-4a2d-caa3-a3a1a02aafc2"
      },
      "execution_count": null,
      "outputs": [
        {
          "output_type": "stream",
          "name": "stdout",
          "text": [
            "[0.189, 0.045, 0.282, 0.073, 0.646]\n"
          ]
        }
      ]
    },
    {
      "cell_type": "code",
      "source": [
        "#약수찾기\n",
        "n = int(input(\"정수를 입력하세요: \"))\n",
        "\n",
        "for i in range(1, n+1):\n",
        "    if n % i == 0:\n",
        "        print(i)"
      ],
      "metadata": {
        "id": "5e25hvR9tqFS",
        "colab": {
          "base_uri": "https://localhost:8080/"
        },
        "outputId": "64e4dda1-f1fd-468d-a19b-3c404a0de95b"
      },
      "execution_count": null,
      "outputs": [
        {
          "output_type": "stream",
          "name": "stdout",
          "text": [
            "정수를 입력하세요: 50\n",
            "1\n",
            "2\n",
            "5\n",
            "10\n",
            "25\n",
            "50\n"
          ]
        }
      ]
    },
    {
      "cell_type": "code",
      "source": [
        "#소인수 찾기 \n",
        "n = int(input(\"정수를 입력하세요: \"))\n",
        "factor = 2\n",
        "\n",
        "while n > 1:\n",
        "    if n % factor == 0:\n",
        "        print(factor)\n",
        "        n //= factor\n",
        "    else:\n",
        "        factor += 1"
      ],
      "metadata": {
        "colab": {
          "base_uri": "https://localhost:8080/"
        },
        "id": "yzXg0WS2hSZZ",
        "outputId": "cac7fe4f-81ce-4766-f6a0-4dd086dc3abc"
      },
      "execution_count": null,
      "outputs": [
        {
          "output_type": "stream",
          "name": "stdout",
          "text": [
            "정수를 입력하세요: 15\n",
            "3\n",
            "5\n"
          ]
        }
      ]
    },
    {
      "cell_type": "code",
      "source": [
        "#최대공약수 구하기\n",
        "a = int(input(\"첫 번째 숫자를 입력하세요: \"))\n",
        "b = int(input(\"두 번째 숫자를 입력하세요: \"))\n",
        "\n",
        "while b != 0:\n",
        "    a, b = b, a % b\n",
        "\n",
        "print(\"두 숫자의 최대공약수는\", a, \"입니다.\")\n"
      ],
      "metadata": {
        "colab": {
          "base_uri": "https://localhost:8080/"
        },
        "id": "vS9mTyhTim8y",
        "outputId": "a70c6900-6f12-4942-818f-7261a48247df"
      },
      "execution_count": null,
      "outputs": [
        {
          "output_type": "stream",
          "name": "stdout",
          "text": [
            "첫 번째 숫자를 입력하세요: 24\n",
            "두 번째 숫자를 입력하세요: 50\n",
            "두 숫자의 최대공약수는 2 입니다.\n"
          ]
        }
      ]
    },
    {
      "cell_type": "code",
      "source": [
        "def gcd(a, b):\n",
        "    while b != 0:\n",
        "        a, b = b, a % b\n",
        "    return a\n",
        "\n",
        "def lcm(a, b):\n",
        "    return (a * b) // gcd(a, b)\n",
        "\n",
        "a = int(input(\"첫 번째 숫자를 입력하세요: \"))\n",
        "b = int(input(\"두 번째 숫자를 입력하세요: \"))\n",
        "\n",
        "print(\"두 숫자의 최소공배수는\", lcm(a, b), \"입니다.\")\n"
      ],
      "metadata": {
        "colab": {
          "base_uri": "https://localhost:8080/"
        },
        "id": "JtqRnp87jUX4",
        "outputId": "c8a90695-f89b-420b-dff9-784d7e82ae5d"
      },
      "execution_count": null,
      "outputs": [
        {
          "output_type": "stream",
          "name": "stdout",
          "text": [
            "첫 번째 숫자를 입력하세요: 7\n",
            "두 번째 숫자를 입력하세요: 40\n",
            "두 숫자의 최소공배수는 280 입니다.\n"
          ]
        }
      ]
    },
    {
      "cell_type": "code",
      "source": [],
      "metadata": {
        "id": "kyib_KBzpi94"
      },
      "execution_count": null,
      "outputs": []
    }
  ]
}